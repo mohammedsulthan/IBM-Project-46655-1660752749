{
  "nbformat": 4,
  "nbformat_minor": 0,
  "metadata": {
    "colab": {
      "provenance": [],
      "collapsed_sections": []
    },
    "kernelspec": {
      "name": "python3",
      "display_name": "Python 3"
    },
    "language_info": {
      "name": "python"
    }
  },
  "cells": [
    {
      "cell_type": "markdown",
      "source": [
        "#**BUILDING CNN MODEL FOR IMAGE CLASSIFIACTION**"
      ],
      "metadata": {
        "id": "lvJ_KZtmrb9u"
      }
    },
    {
      "cell_type": "markdown",
      "source": [
        "##**Image Augmentation**"
      ],
      "metadata": {
        "id": "1mkTgkQOsj1T"
      }
    },
    {
      "cell_type": "code",
      "source": [
        "from tensorflow.keras.preprocessing.image import ImageDataGenerator"
      ],
      "metadata": {
        "id": "G2jXz2qrreHr"
      },
      "execution_count": 28,
      "outputs": []
    },
    {
      "cell_type": "code",
      "execution_count": 29,
      "metadata": {
        "id": "GxGIWcRtARUQ"
      },
      "outputs": [],
      "source": [
        "train_datagen=ImageDataGenerator(rescale=1./255,zoom_range=0.2,horizontal_flip=True,vertical_flip=False)\n",
        "test_datagen = ImageDataGenerator(rescale=1./255)"
      ]
    },
    {
      "cell_type": "code",
      "source": [
        "x_train = train_datagen.flow_from_directory(r'/content/drive/MyDrive/assign.3.dataset/flowers',target_size=(64,64),class_mode='categorical')"
      ],
      "metadata": {
        "colab": {
          "base_uri": "https://localhost:8080/"
        },
        "id": "ZRt2shgEs-hF",
        "outputId": "10fa64ff-d78c-4cbb-89aa-d4d77ee82c4f"
      },
      "execution_count": 26,
      "outputs": [
        {
          "output_type": "stream",
          "name": "stdout",
          "text": [
            "Found 4317 images belonging to 5 classes.\n"
          ]
        }
      ]
    },
    {
      "cell_type": "code",
      "source": [
        "x_train.class_indices"
      ],
      "metadata": {
        "colab": {
          "base_uri": "https://localhost:8080/"
        },
        "id": "PDpBl_zBuJ38",
        "outputId": "03098c9c-c857-4323-9795-fd3e21baeb59"
      },
      "execution_count": 27,
      "outputs": [
        {
          "output_type": "execute_result",
          "data": {
            "text/plain": [
              "{'daisy': 0, 'dandelion': 1, 'rose': 2, 'sunflower': 3, 'tulip': 4}"
            ]
          },
          "metadata": {},
          "execution_count": 27
        }
      ]
    },
    {
      "cell_type": "markdown",
      "source": [
        "##**Creating Model**"
      ],
      "metadata": {
        "id": "1ZzgdIFIuh98"
      }
    },
    {
      "cell_type": "code",
      "source": [
        "from tensorflow.keras.models import Sequential\n",
        "from tensorflow.keras.layers import Convolution2D,MaxPooling2D,Dense,Flatten"
      ],
      "metadata": {
        "id": "nNGsWC5suSvP"
      },
      "execution_count": 30,
      "outputs": []
    },
    {
      "cell_type": "code",
      "source": [
        "model=Sequential()"
      ],
      "metadata": {
        "id": "oy8182cDFSjN"
      },
      "execution_count": 31,
      "outputs": []
    },
    {
      "cell_type": "markdown",
      "source": [
        "##**Add Layers (Convolution,MaxPooling,Flatten,Dense-(HiddenLayers),Output)**"
      ],
      "metadata": {
        "id": "y8DrVQjKF9Js"
      }
    },
    {
      "cell_type": "code",
      "source": [
        "model.add(Convolution2D(32,(3,3),activation='relu',input_shape=(64,64,3))) # Convolution layer\n",
        "model.add(MaxPooling2D(pool_size=(2,2))) # Max pooling layer\n",
        "model.add(Flatten()) # Flatten layer\n",
        "# Dense layers\n",
        "model.add(Dense(300,activation='relu')) # Hidden layer\n",
        "model.add(Dense(150,activation='relu')) # Hidden layer\n",
        "model.add(Dense(5,activation='softmax')) # Output layer"
      ],
      "metadata": {
        "id": "ePzz_h6nFxvH"
      },
      "execution_count": 32,
      "outputs": []
    },
    {
      "cell_type": "code",
      "source": [
        "model.summary()"
      ],
      "metadata": {
        "colab": {
          "base_uri": "https://localhost:8080/"
        },
        "id": "Nj4aYq8qGm2B",
        "outputId": "73d5f7c8-ab5b-4aae-a969-640b4722e5ab"
      },
      "execution_count": 33,
      "outputs": [
        {
          "output_type": "stream",
          "name": "stdout",
          "text": [
            "Model: \"sequential_2\"\n",
            "_________________________________________________________________\n",
            " Layer (type)                Output Shape              Param #   \n",
            "=================================================================\n",
            " conv2d_2 (Conv2D)           (None, 62, 62, 32)        896       \n",
            "                                                                 \n",
            " max_pooling2d_2 (MaxPooling  (None, 31, 31, 32)       0         \n",
            " 2D)                                                             \n",
            "                                                                 \n",
            " flatten_2 (Flatten)         (None, 30752)             0         \n",
            "                                                                 \n",
            " dense_6 (Dense)             (None, 300)               9225900   \n",
            "                                                                 \n",
            " dense_7 (Dense)             (None, 150)               45150     \n",
            "                                                                 \n",
            " dense_8 (Dense)             (None, 5)                 755       \n",
            "                                                                 \n",
            "=================================================================\n",
            "Total params: 9,272,701\n",
            "Trainable params: 9,272,701\n",
            "Non-trainable params: 0\n",
            "_________________________________________________________________\n"
          ]
        }
      ]
    },
    {
      "cell_type": "markdown",
      "source": [
        "##**Compile the Model**"
      ],
      "metadata": {
        "id": "UFElCNt7Ge1O"
      }
    },
    {
      "cell_type": "code",
      "source": [
        "model.compile(optimizer='adam',loss='categorical_crossentropy',metrics=['accuracy'])"
      ],
      "metadata": {
        "id": "vbuOI68tGaVB"
      },
      "execution_count": 34,
      "outputs": []
    },
    {
      "cell_type": "markdown",
      "source": [
        "##**Fitting the Model**"
      ],
      "metadata": {
        "id": "PkjZy4tkGtjF"
      }
    },
    {
      "cell_type": "code",
      "source": [
        "model.fit(x_train, epochs = 10,steps_per_epoch=len(x_train))"
      ],
      "metadata": {
        "colab": {
          "base_uri": "https://localhost:8080/"
        },
        "id": "5IqM2hmwGmAU",
        "outputId": "b8916655-f665-4b33-e35c-dc4a3333f9b1"
      },
      "execution_count": 35,
      "outputs": [
        {
          "output_type": "stream",
          "name": "stdout",
          "text": [
            "Epoch 1/10\n",
            "135/135 [==============================] - 46s 333ms/step - loss: 1.2276 - accuracy: 0.4922\n",
            "Epoch 2/10\n",
            "135/135 [==============================] - 45s 335ms/step - loss: 0.9983 - accuracy: 0.6125\n",
            "Epoch 3/10\n",
            "135/135 [==============================] - 46s 338ms/step - loss: 0.9083 - accuracy: 0.6507\n",
            "Epoch 4/10\n",
            "135/135 [==============================] - 45s 332ms/step - loss: 0.8446 - accuracy: 0.6759\n",
            "Epoch 5/10\n",
            "135/135 [==============================] - 45s 333ms/step - loss: 0.7881 - accuracy: 0.6977\n",
            "Epoch 6/10\n",
            "135/135 [==============================] - 46s 337ms/step - loss: 0.7372 - accuracy: 0.7234\n",
            "Epoch 7/10\n",
            "135/135 [==============================] - 46s 340ms/step - loss: 0.6991 - accuracy: 0.7385\n",
            "Epoch 8/10\n",
            "135/135 [==============================] - 46s 339ms/step - loss: 0.6466 - accuracy: 0.7540\n",
            "Epoch 9/10\n",
            "135/135 [==============================] - 44s 327ms/step - loss: 0.6147 - accuracy: 0.7737\n",
            "Epoch 10/10\n",
            "135/135 [==============================] - 45s 336ms/step - loss: 0.5822 - accuracy: 0.7816\n"
          ]
        },
        {
          "output_type": "execute_result",
          "data": {
            "text/plain": [
              "<keras.callbacks.History at 0x7f44ce722190>"
            ]
          },
          "metadata": {},
          "execution_count": 35
        }
      ]
    },
    {
      "cell_type": "markdown",
      "source": [
        "##**Saving the Model**"
      ],
      "metadata": {
        "id": "uwQ7WozNVsdD"
      }
    },
    {
      "cell_type": "code",
      "source": [
        "model.save('flowers.h5')"
      ],
      "metadata": {
        "id": "47eIzRAVHcGI"
      },
      "execution_count": 36,
      "outputs": []
    },
    {
      "cell_type": "markdown",
      "source": [
        "##**Testing the Model**"
      ],
      "metadata": {
        "id": "_hPhNpWIWEF9"
      }
    },
    {
      "cell_type": "code",
      "source": [
        "import numpy as np\n",
        "from tensorflow.keras.models import load_model\n",
        "from tensorflow.keras.preprocessing import image"
      ],
      "metadata": {
        "id": "xcjd8Z1eV5_M"
      },
      "execution_count": 53,
      "outputs": []
    },
    {
      "cell_type": "code",
      "source": [
        "model=load_model('flowers.h5')"
      ],
      "metadata": {
        "id": "dJyRqi_JWb4E"
      },
      "execution_count": 54,
      "outputs": []
    },
    {
      "cell_type": "code",
      "source": [
        "img = image.load_img(r'/content/drive/MyDrive/assign.3.dataset/test.jpg',target_size=(64,64))\n",
        "img"
      ],
      "metadata": {
        "colab": {
          "base_uri": "https://localhost:8080/",
          "height": 81
        },
        "id": "vWwHCnWYWjlG",
        "outputId": "fb757f44-6efe-43aa-a269-487f79a33fc3"
      },
      "execution_count": 70,
      "outputs": [
        {
          "output_type": "execute_result",
          "data": {
            "text/plain": [
              "<PIL.Image.Image image mode=RGB size=64x64 at 0x7F44D23E28D0>"
            ],
            "image/png": "[encoded data removed]"
          },
          "metadata": {},
          "execution_count": 70
        }
      ]
    },
    {
      "cell_type": "code",
      "source": [
        "x_train.class_indices"
      ],
      "metadata": {
        "colab": {
          "base_uri": "https://localhost:8080/"
        },
        "id": "uG_kCrUia6aM",
        "outputId": "e9a70060-5d37-4797-e1c7-5f6b095a4907"
      },
      "execution_count": 71,
      "outputs": [
        {
          "output_type": "execute_result",
          "data": {
            "text/plain": [
              "{'daisy': 0, 'dandelion': 1, 'rose': 2, 'sunflower': 3, 'tulip': 4}"
            ]
          },
          "metadata": {},
          "execution_count": 71
        }
      ]
    },
    {
      "cell_type": "code",
      "source": [
        "x=image.img_to_array(img)\n",
        "x=np.expand_dims(x,axis=0)\n",
        "y=np.argmax(model.predict(x))\n",
        "y\n"
      ],
      "metadata": {
        "colab": {
          "base_uri": "https://localhost:8080/"
        },
        "id": "9P8RrmUvYtNp",
        "outputId": "2fd84fb6-8e1c-4292-cd69-e123d188713a"
      },
      "execution_count": 72,
      "outputs": [
        {
          "output_type": "execute_result",
          "data": {
            "text/plain": [
              "3"
            ]
          },
          "metadata": {},
          "execution_count": 72
        }
      ]
    },
    {
      "cell_type": "code",
      "source": [
        "index=['daisy','dandelion','rose','sunflower','tulip']\n",
        "index[y]"
      ],
      "metadata": {
        "colab": {
          "base_uri": "https://localhost:8080/",
          "height": 36
        },
        "id": "uLLEKnsxaRwQ",
        "outputId": "db75a44e-0c09-4d1b-db2f-73055bbe9aee"
      },
      "execution_count": 73,
      "outputs": [
        {
          "output_type": "execute_result",
          "data": {
            "text/plain": [
              "'sunflower'"
            ],
            "application/vnd.google.colaboratory.intrinsic+json": {
              "type": "string"
            }
          },
          "metadata": {},
          "execution_count": 73
        }
      ]
    },
    {
      "cell_type": "code",
      "source": [
        "img1 = image.load_img(r'/content/drive/MyDrive/assign.3.dataset/test1.jpg',target_size=(64,64))\n",
        "img1"
      ],
      "metadata": {
        "colab": {
          "base_uri": "https://localhost:8080/",
          "height": 81
        },
        "id": "YVM1zrh7br9h",
        "outputId": "9bab0813-1861-466b-d5d0-5fe29697c1de"
      },
      "execution_count": 74,
      "outputs": [
        {
          "output_type": "execute_result",
          "data": {
            "text/plain": [
              "<PIL.Image.Image image mode=RGB size=64x64 at 0x7F44D23C6990>"
            ],
            "image/png": "[encoded data removed]"
          },
          "metadata": {},
          "execution_count": 74
        }
      ]
    },
    {
      "cell_type": "code",
      "source": [
        "x=image.img_to_array(img1)\n",
        "x=np.expand_dims(x,axis=0)\n",
        "y=np.argmax(model.predict(x))\n",
        "index[y]"
      ],
      "metadata": {
        "colab": {
          "base_uri": "https://localhost:8080/",
          "height": 36
        },
        "id": "ZBVV7OFic45V",
        "outputId": "e833fe3e-3a6d-4662-c523-fe77af41d70b"
      },
      "execution_count": 75,
      "outputs": [
        {
          "output_type": "execute_result",
          "data": {
            "text/plain": [
              "'daisy'"
            ],
            "application/vnd.google.colaboratory.intrinsic+json": {
              "type": "string"
            }
          },
          "metadata": {},
          "execution_count": 75
        }
      ]
    },
    {
      "cell_type": "code",
      "source": [
        "img2 = image.load_img(r'/content/drive/MyDrive/assign.3.dataset/test2.jpg',target_size=(64,64))\n",
        "img2"
      ],
      "metadata": {
        "colab": {
          "base_uri": "https://localhost:8080/",
          "height": 81
        },
        "id": "uo5c5I9UdAxI",
        "outputId": "01464949-a2a7-49cf-b79e-5955b15d0d28"
      },
      "execution_count": 77,
      "outputs": [
        {
          "output_type": "execute_result",
          "data": {
            "text/plain": [
              "<PIL.Image.Image image mode=RGB size=64x64 at 0x7F44D1B7CED0>"
            ],
            "image/png": "[encoded data removed]"
          },
          "metadata": {},
          "execution_count": 77
        }
      ]
    },
    {
      "cell_type": "code",
      "source": [
        "x=image.img_to_array(img2)\n",
        "x=np.expand_dims(x,axis=0)\n",
        "y=np.argmax(model.predict(x))\n",
        "index[y]"
      ],
      "metadata": {
        "colab": {
          "base_uri": "https://localhost:8080/",
          "height": 36
        },
        "id": "3bko9pBedRaI",
        "outputId": "8c7a5ac6-e55b-4e53-fc24-692ea5ca015a"
      },
      "execution_count": 78,
      "outputs": [
        {
          "output_type": "execute_result",
          "data": {
            "text/plain": [
              "'rose'"
            ],
            "application/vnd.google.colaboratory.intrinsic+json": {
              "type": "string"
            }
          },
          "metadata": {},
          "execution_count": 78
        }
      ]
    },
    {
      "cell_type": "code",
      "source": [],
      "metadata": {
        "id": "CXNsw4CHiFwo"
      },
      "execution_count": null,
      "outputs": []
    },
    {
      "cell_type": "code",
      "source": [],
      "metadata": {
        "id": "IwyqtiSkiGu2"
      },
      "execution_count": null,
      "outputs": []
    },
    {
      "cell_type": "markdown",
      "source": [
        "###With training and testing data"
      ],
      "metadata": {
        "id": "5chNNL1vh7MT"
      }
    },
    {
      "cell_type": "code",
      "source": [
        "!pip install split-folders"
      ],
      "metadata": {
        "colab": {
          "base_uri": "https://localhost:8080/"
        },
        "id": "eJEmiKe_ejqy",
        "outputId": "40c1a099-648a-406f-8475-e40282b764e0"
      },
      "execution_count": 79,
      "outputs": [
        {
          "output_type": "stream",
          "name": "stdout",
          "text": [
            "Looking in indexes: https://pypi.org/simple, https://us-python.pkg.dev/colab-wheels/public/simple/\n",
            "Collecting split-folders\n",
            "  Downloading split_folders-0.5.1-py3-none-any.whl (8.4 kB)\n",
            "Installing collected packages: split-folders\n",
            "Successfully installed split-folders-0.5.1\n"
          ]
        }
      ]
    },
    {
      "cell_type": "code",
      "source": [
        "import splitfolders"
      ],
      "metadata": {
        "id": "w9ctZA4HetyD"
      },
      "execution_count": 80,
      "outputs": []
    },
    {
      "cell_type": "code",
      "source": [
        "splitfolders.ratio(\"/content/drive/MyDrive/assign.3.dataset/flowers\", output=\"/content/drive/MyDrive/assign.3.dataset\", ratio=(.8, .2), group_prefix=None, move=False)"
      ],
      "metadata": {
        "colab": {
          "base_uri": "https://localhost:8080/"
        },
        "id": "mXK4BdI5fDcC",
        "outputId": "738e6e18-f164-4e3c-da19-47f7d27bb5b8"
      },
      "execution_count": 81,
      "outputs": [
        {
          "output_type": "stream",
          "name": "stderr",
          "text": [
            "Copying files: 4317 files [01:10, 61.12 files/s]\n"
          ]
        }
      ]
    },
    {
      "cell_type": "code",
      "source": [
        "from tensorflow.keras.preprocessing.image import ImageDataGenerator\n",
        "train_datagen=ImageDataGenerator(rescale=1./255,zoom_range=0.2,horizontal_flip=True,vertical_flip=False)\n",
        "test_datagen = ImageDataGenerator(rescale=1./255)"
      ],
      "metadata": {
        "id": "8f1hivwWf9z9"
      },
      "execution_count": 82,
      "outputs": []
    },
    {
      "cell_type": "code",
      "source": [
        "x_train = train_datagen.flow_from_directory(r'/content/drive/MyDrive/assign.3.dataset/train',target_size=(64,64),class_mode='categorical')"
      ],
      "metadata": {
        "colab": {
          "base_uri": "https://localhost:8080/"
        },
        "id": "BpvWJCJVgl6y",
        "outputId": "b8af81f0-d97a-41f1-c893-fb063e082e0f"
      },
      "execution_count": 83,
      "outputs": [
        {
          "output_type": "stream",
          "name": "stdout",
          "text": [
            "Found 3452 images belonging to 5 classes.\n"
          ]
        }
      ]
    },
    {
      "cell_type": "code",
      "source": [
        "x_test=test_datagen.flow_from_directory(r'/content/drive/MyDrive/assign.3.dataset/val',target_size=(64,64),class_mode='categorical')"
      ],
      "metadata": {
        "colab": {
          "base_uri": "https://localhost:8080/"
        },
        "id": "iR188G-Ggt7I",
        "outputId": "a8b2fe8e-3ddf-48a3-eb1c-67cc3e6bf3d8"
      },
      "execution_count": 84,
      "outputs": [
        {
          "output_type": "stream",
          "name": "stdout",
          "text": [
            "Found 865 images belonging to 5 classes.\n"
          ]
        }
      ]
    },
    {
      "cell_type": "code",
      "source": [
        "from tensorflow.keras.models import Sequential\n",
        "from tensorflow.keras.layers import Convolution2D,MaxPooling2D,Dense,Flatten"
      ],
      "metadata": {
        "id": "8_gzcZ4rg77D"
      },
      "execution_count": 85,
      "outputs": []
    },
    {
      "cell_type": "code",
      "source": [
        "model=Sequential()"
      ],
      "metadata": {
        "id": "9GRyw3hAhpHx"
      },
      "execution_count": 86,
      "outputs": []
    },
    {
      "cell_type": "code",
      "source": [
        "model.add(Convolution2D(32,(3,3),activation='relu',input_shape=(64,64,3))) # Convolution layer\n",
        "model.add(MaxPooling2D(pool_size=(2,2))) # Max pooling layer\n",
        "model.add(Flatten()) # Flatten layer\n",
        "# Dense layers\n",
        "model.add(Dense(300,activation='relu')) # Hidden layer\n",
        "model.add(Dense(150,activation='relu')) # Hidden layer\n",
        "model.add(Dense(5,activation='softmax')) # Output layer"
      ],
      "metadata": {
        "id": "oQrYTjTIhoFr"
      },
      "execution_count": 87,
      "outputs": []
    },
    {
      "cell_type": "code",
      "source": [
        "model.summary()"
      ],
      "metadata": {
        "colab": {
          "base_uri": "https://localhost:8080/"
        },
        "id": "HEKMFiIKhsK7",
        "outputId": "4928064c-dc78-4004-bfc1-a5165ae8683f"
      },
      "execution_count": 88,
      "outputs": [
        {
          "output_type": "stream",
          "name": "stdout",
          "text": [
            "Model: \"sequential_3\"\n",
            "_________________________________________________________________\n",
            " Layer (type)                Output Shape              Param #   \n",
            "=================================================================\n",
            " conv2d_3 (Conv2D)           (None, 62, 62, 32)        896       \n",
            "                                                                 \n",
            " max_pooling2d_3 (MaxPooling  (None, 31, 31, 32)       0         \n",
            " 2D)                                                             \n",
            "                                                                 \n",
            " flatten_3 (Flatten)         (None, 30752)             0         \n",
            "                                                                 \n",
            " dense_9 (Dense)             (None, 300)               9225900   \n",
            "                                                                 \n",
            " dense_10 (Dense)            (None, 150)               45150     \n",
            "                                                                 \n",
            " dense_11 (Dense)            (None, 5)                 755       \n",
            "                                                                 \n",
            "=================================================================\n",
            "Total params: 9,272,701\n",
            "Trainable params: 9,272,701\n",
            "Non-trainable params: 0\n",
            "_________________________________________________________________\n"
          ]
        }
      ]
    },
    {
      "cell_type": "code",
      "source": [
        "model.compile(optimizer='adam',loss='categorical_crossentropy',metrics=['accuracy'])"
      ],
      "metadata": {
        "id": "W3pV0u66hv9R"
      },
      "execution_count": 89,
      "outputs": []
    },
    {
      "cell_type": "code",
      "source": [
        "model.fit(x_train, epochs = 10, validation_data=x_test, steps_per_epoch=len(x_train), validation_steps=len(x_test))"
      ],
      "metadata": {
        "colab": {
          "base_uri": "https://localhost:8080/"
        },
        "id": "-8UbMQ5UhziL",
        "outputId": "893d67d1-00e1-41ad-bd15-79cdc2ba1170"
      },
      "execution_count": 90,
      "outputs": [
        {
          "output_type": "stream",
          "name": "stdout",
          "text": [
            "Epoch 1/10\n",
            "108/108 [==============================] - 45s 413ms/step - loss: 1.4393 - accuracy: 0.4122 - val_loss: 1.3110 - val_accuracy: 0.4809\n",
            "Epoch 2/10\n",
            "108/108 [==============================] - 42s 392ms/step - loss: 1.0584 - accuracy: 0.5820 - val_loss: 1.1459 - val_accuracy: 0.5457\n",
            "Epoch 3/10\n",
            "108/108 [==============================] - 42s 387ms/step - loss: 0.9513 - accuracy: 0.6353 - val_loss: 1.2169 - val_accuracy: 0.5353\n",
            "Epoch 4/10\n",
            "108/108 [==============================] - 47s 433ms/step - loss: 0.8961 - accuracy: 0.6498 - val_loss: 1.0100 - val_accuracy: 0.6220\n",
            "Epoch 5/10\n",
            "108/108 [==============================] - 42s 387ms/step - loss: 0.8260 - accuracy: 0.6779 - val_loss: 0.9960 - val_accuracy: 0.6312\n",
            "Epoch 6/10\n",
            "108/108 [==============================] - 43s 398ms/step - loss: 0.7853 - accuracy: 0.6976 - val_loss: 0.9918 - val_accuracy: 0.6231\n",
            "Epoch 7/10\n",
            "108/108 [==============================] - 42s 386ms/step - loss: 0.7340 - accuracy: 0.7202 - val_loss: 1.0139 - val_accuracy: 0.6451\n",
            "Epoch 8/10\n",
            "108/108 [==============================] - 42s 386ms/step - loss: 0.6943 - accuracy: 0.7375 - val_loss: 1.0273 - val_accuracy: 0.6289\n",
            "Epoch 9/10\n",
            "108/108 [==============================] - 44s 408ms/step - loss: 0.6664 - accuracy: 0.7503 - val_loss: 1.0619 - val_accuracy: 0.6277\n",
            "Epoch 10/10\n",
            "108/108 [==============================] - 42s 388ms/step - loss: 0.6302 - accuracy: 0.7659 - val_loss: 0.9690 - val_accuracy: 0.6705\n"
          ]
        },
        {
          "output_type": "execute_result",
          "data": {
            "text/plain": [
              "<keras.callbacks.History at 0x7f44d1d5a850>"
            ]
          },
          "metadata": {},
          "execution_count": 90
        }
      ]
    },
    {
      "cell_type": "code",
      "source": [
        "model.save('flowers.h5')"
      ],
      "metadata": {
        "id": "kZE6Nr4IiZaV"
      },
      "execution_count": 91,
      "outputs": []
    },
    {
      "cell_type": "code",
      "source": [
        "import numpy as np\n",
        "from tensorflow.keras.models import load_model\n",
        "from tensorflow.keras.preprocessing import image"
      ],
      "metadata": {
        "id": "-zdmLUQTiq3F"
      },
      "execution_count": 92,
      "outputs": []
    },
    {
      "cell_type": "code",
      "source": [
        "model=load_model('flowers.h5')"
      ],
      "metadata": {
        "id": "RRIMNMCpiq_F"
      },
      "execution_count": 93,
      "outputs": []
    },
    {
      "cell_type": "code",
      "source": [
        "img = image.load_img(r'/content/drive/MyDrive/assign.3.dataset/val/tulip/112428665_d8f3632f36_n.jpg',target_size=(64,64))\n",
        "img"
      ],
      "metadata": {
        "colab": {
          "base_uri": "https://localhost:8080/",
          "height": 81
        },
        "id": "KcASZaYxiumC",
        "outputId": "41b81a63-d4f5-4149-89e2-951178234bac"
      },
      "execution_count": 102,
      "outputs": [
        {
          "output_type": "execute_result",
          "data": {
            "text/plain": [
              "<PIL.Image.Image image mode=RGB size=64x64 at 0x7F44D2F7F210>"
            ],
            "image/png": "[encoded data removed]"
          },
          "metadata": {},
          "execution_count": 102
        }
      ]
    },
    {
      "cell_type": "code",
      "source": [
        "x_train.class_indices"
      ],
      "metadata": {
        "colab": {
          "base_uri": "https://localhost:8080/"
        },
        "id": "mFWcoTTji1zt",
        "outputId": "49f52463-76da-46c9-8a70-a278befab28d"
      },
      "execution_count": 103,
      "outputs": [
        {
          "output_type": "execute_result",
          "data": {
            "text/plain": [
              "{'daisy': 0, 'dandelion': 1, 'rose': 2, 'sunflower': 3, 'tulip': 4}"
            ]
          },
          "metadata": {},
          "execution_count": 103
        }
      ]
    },
    {
      "cell_type": "code",
      "source": [
        "x=image.img_to_array(img)\n",
        "x=np.expand_dims(x,axis=0)\n",
        "y=np.argmax(model.predict(x))\n",
        "y"
      ],
      "metadata": {
        "colab": {
          "base_uri": "https://localhost:8080/"
        },
        "id": "dkccyfXBi7G_",
        "outputId": "c678ca4c-7114-43e9-9fed-ac796bc93337"
      },
      "execution_count": 104,
      "outputs": [
        {
          "output_type": "execute_result",
          "data": {
            "text/plain": [
              "4"
            ]
          },
          "metadata": {},
          "execution_count": 104
        }
      ]
    },
    {
      "cell_type": "code",
      "source": [
        "index=['daisy','dandelion','rose','sunflower','tulip']\n",
        "index[y]"
      ],
      "metadata": {
        "colab": {
          "base_uri": "https://localhost:8080/",
          "height": 36
        },
        "id": "qcCeis-pi7Sb",
        "outputId": "e3be4011-c309-4d32-e83b-02c4a6f2ff55"
      },
      "execution_count": 105,
      "outputs": [
        {
          "output_type": "execute_result",
          "data": {
            "text/plain": [
              "'tulip'"
            ],
            "application/vnd.google.colaboratory.intrinsic+json": {
              "type": "string"
            }
          },
          "metadata": {},
          "execution_count": 105
        }
      ]
    },
    {
      "cell_type": "code",
      "source": [],
      "metadata": {
        "id": "XQ5VlwK4k10x"
      },
      "execution_count": null,
      "outputs": []
    }
  ]
}
